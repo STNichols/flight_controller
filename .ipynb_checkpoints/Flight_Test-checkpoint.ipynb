{
 "cells": [
  {
   "cell_type": "markdown",
   "metadata": {},
   "source": [
    "# Initializing the aircraft object (simulated)"
   ]
  },
  {
   "cell_type": "code",
   "execution_count": 1,
   "metadata": {},
   "outputs": [
    {
     "name": "stdout",
     "output_type": "stream",
     "text": [
      "Calibrating motors to find power at equilibrium\n",
      "Critial Power at: 50.2%\n",
      "Using simulation critical power at:50.0%\n"
     ]
    },
    {
     "data": {
      "image/png": "[encoded data removed]",
      "text/plain": [
       "<Figure size 432x288 with 1 Axes>"
      ]
     },
     "metadata": {
      "needs_background": "light"
     },
     "output_type": "display_data"
    }
   ],
   "source": [
    "import os, sys\n",
    "import time\n",
    "%matplotlib inline\n",
    "import matplotlib.pyplot as plt\n",
    "\n",
    "sys.path.append('C:\\\\Users\\\\Sean\\\\repos\\\\')\n",
    "sys.path.append('C:\\\\Users\\\\Sean\\\\repos\\\\Python-Arduino-Proto-API-v2')\n",
    "\n",
    "from aircraft import aircraft\n",
    "\n",
    "simulation = 1\n",
    "a_com = 'COM3'\n",
    "motors = [9, 10, 11, 12]\n",
    "ultrasonic_sensor = [2, 3]\n",
    "\n",
    "ac = aircraft(a_com, motors, ultrasonic_sensor, simulation=simulation)"
   ]
  },
  {
   "cell_type": "code",
   "execution_count": 2,
   "metadata": {},
   "outputs": [
    {
     "name": "stdout",
     "output_type": "stream",
     "text": [
      "0.0204085\n",
      "0.145089\n",
      "0.46768049999999994\n",
      "0.983038\n",
      "1.699565\n",
      "2.614003\n",
      "3.726009\n",
      "5.037126499999999\n",
      "6.5480415\n",
      "8.239889\n"
     ]
    }
   ],
   "source": [
    "# Testing acceleration\n",
    "ac.set_motors(ac.crit_speed + 10)\n",
    "for i in range(10):\n",
    "    print(ac.check_altitude())\n",
    "    time.sleep(0.5)"
   ]
  },
  {
   "cell_type": "code",
   "execution_count": 3,
   "metadata": {},
   "outputs": [
    {
     "name": "stdout",
     "output_type": "stream",
     "text": [
      "Setting motors to equilibrium\n",
      "10.304063\n",
      "12.039299999999999\n",
      "13.389862499999998\n",
      "14.440986\n",
      "15.2592125\n",
      "15.895991999999998\n",
      "16.3914555\n",
      "16.777330499999998\n",
      "17.0774555\n",
      "17.31121\n",
      "17.493\n",
      "17.6344875\n",
      "17.744761999999998\n",
      "17.830512\n",
      "17.897225499999998\n",
      "17.949189999999998\n",
      "17.9894925\n",
      "18.0210485\n",
      "18.045573\n",
      "18.0646095\n"
     ]
    }
   ],
   "source": [
    "# Testing drag at equilibrium\n",
    "print('Setting motors to equilibrium')\n",
    "ac.set_motors(ac.crit_speed)\n",
    "for i in range(20):\n",
    "    print(ac.check_altitude())\n",
    "    time.sleep(0.5)"
   ]
  },
  {
   "cell_type": "code",
   "execution_count": 4,
   "metadata": {},
   "outputs": [
    {
     "name": "stdout",
     "output_type": "stream",
     "text": [
      "Starting free fall\n",
      "18.075071\n",
      "16.669628499999998\n",
      "12.718097\n",
      "6.253747499999999\n",
      "0.0\n",
      "0.0\n",
      "0.0\n",
      "0.0\n",
      "0.0\n",
      "0.0\n",
      "0.0\n",
      "0.0\n",
      "0.0\n",
      "0.0\n",
      "0.0\n"
     ]
    }
   ],
   "source": [
    "# Testing deceleration\n",
    "print('Starting free fall')\n",
    "ac.set_motors(0)\n",
    "for i in range(15):\n",
    "    print(ac.check_altitude())\n",
    "    time.sleep(0.5)"
   ]
  },
  {
   "cell_type": "code",
   "execution_count": 5,
   "metadata": {},
   "outputs": [
    {
     "name": "stdout",
     "output_type": "stream",
     "text": [
      "Current Altitude is: 20.0509225\n",
      "20.1198655\n",
      "20.8573155\n",
      "21.532168\n",
      "22.103263\n",
      "22.625995\n",
      "23.0682935\n",
      "23.4730335\n",
      "23.828381499999995\n",
      "24.14034\n",
      "24.414053999999997\n",
      "24.654497\n",
      "24.865442\n",
      "25.050662\n",
      "25.213243999999996\n",
      "25.355931999999996\n",
      "25.485585999999998\n",
      "25.5910585\n",
      "25.684183\n",
      "25.769247\n",
      "25.844020999999998\n"
     ]
    }
   ],
   "source": [
    "# Testing set_altitude command\n",
    "ac.set_altitude(20)\n",
    "for i in range(10):\n",
    "    print(ac.check_altitude())\n",
    "    time.sleep(0.25)"
   ]
  },
  {
   "cell_type": "code",
   "execution_count": 7,
   "metadata": {},
   "outputs": [
    {
     "name": "stderr",
     "output_type": "stream",
     "text": [
      "C:\\Users\\Sean\\Anaconda3\\lib\\site-packages\\matplotlib\\figure.py:445: UserWarning: Matplotlib is currently using module://ipykernel.pylab.backend_inline, which is a non-GUI backend, so cannot show the figure.\n",
      "  % get_backend())\n"
     ]
    }
   ],
   "source": [
    "ac.arduino.log_fig.show()"
   ]
  },
  {
   "cell_type": "code",
   "execution_count": null,
   "metadata": {},
   "outputs": [],
   "source": []
  }
 ],
 "metadata": {
  "kernelspec": {
   "display_name": "Python 3",
   "language": "python",
   "name": "python3"
  },
  "language_info": {
   "codemirror_mode": {
    "name": "ipython",
    "version": 3
   },
   "file_extension": ".py",
   "mimetype": "text/x-python",
   "name": "python",
   "nbconvert_exporter": "python",
   "pygments_lexer": "ipython3",
   "version": "3.7.3"
  }
 },
 "nbformat": 4,
 "nbformat_minor": 2
}
